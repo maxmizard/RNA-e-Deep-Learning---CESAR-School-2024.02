{
  "cells": [
    {
      "cell_type": "markdown",
      "metadata": {
        "id": "gbTOc6cbl-eq"
      },
      "source": [
        "# Regressão Softmax com dados do MNIST utilizando gradiente descendente estocástico por minibatches"
      ]
    },
    {
      "cell_type": "markdown",
      "metadata": {
        "id": "C-IK0yRml-er"
      },
      "source": [
        "O objetivo deste notebook é ilustrar\n",
        "- o uso do gradiente estocástico por mini-batchs\n",
        "- utilizando as classes Dataset e DataLoater.\n",
        "\n",
        "A apresentação da perda nos gráficos é um pouco diferente da usual, mostrando a perda de cada um dos vários minibatches dentro de cada época, de forma que as épocas são apresentadas com valores fracionários."
      ]
    },
    {
      "cell_type": "markdown",
      "metadata": {
        "id": "mqqDXfr4l-et"
      },
      "source": [
        "## Importação das bibliotecas"
      ]
    },
    {
      "cell_type": "code",
      "execution_count": null,
      "metadata": {
        "ExecuteTime": {
          "end_time": "2017-11-24T22:39:50.314578Z",
          "start_time": "2017-11-24T22:39:48.904460Z"
        },
        "id": "0Iry5pajl-eu"
      },
      "outputs": [],
      "source": [
        "%matplotlib inline\n",
        "import numpy as np\n",
        "import matplotlib.pyplot as plt\n",
        "\n",
        "import torch\n",
        "from torch.autograd import Variable\n",
        "from torch.utils.data import DataLoader\n",
        "\n",
        "import torchvision\n",
        "from torchvision.datasets import MNIST"
      ]
    },
    {
      "cell_type": "markdown",
      "metadata": {
        "id": "QqgILyIkl-ey"
      },
      "source": [
        "## Dataset e dataloader"
      ]
    },
    {
      "cell_type": "markdown",
      "metadata": {
        "id": "VAMBUN5ol-ez"
      },
      "source": [
        "### Definição do tamanho do minibatch"
      ]
    },
    {
      "cell_type": "code",
      "execution_count": null,
      "metadata": {
        "ExecuteTime": {
          "end_time": "2017-11-24T22:39:50.323379Z",
          "start_time": "2017-11-24T22:39:50.318024Z"
        },
        "id": "1YGmeZtbl-ez"
      },
      "outputs": [],
      "source": [
        "batch_size = 100"
      ]
    },
    {
      "cell_type": "markdown",
      "metadata": {
        "id": "3uaaezsvl-e5"
      },
      "source": [
        "### Carregamento, criação dataset e do dataloader"
      ]
    },
    {
      "cell_type": "code",
      "execution_count": null,
      "metadata": {
        "ExecuteTime": {
          "end_time": "2017-11-24T22:39:50.400325Z",
          "start_time": "2017-11-24T22:39:50.326019Z"
        },
        "colab": {
          "base_uri": "https://localhost:8080/"
        },
        "id": "TRXgajEXl-e6",
        "outputId": "250c480b-3b93-495c-ff92-3b4f5e48ac39"
      },
      "outputs": [
        {
          "output_type": "stream",
          "name": "stderr",
          "text": [
            "100%|██████████| 9.91M/9.91M [00:00<00:00, 22.3MB/s]\n",
            "100%|██████████| 28.9k/28.9k [00:00<00:00, 614kB/s]\n",
            "100%|██████████| 1.65M/1.65M [00:00<00:00, 5.65MB/s]\n",
            "100%|██████████| 4.54k/4.54k [00:00<00:00, 6.04MB/s]"
          ]
        },
        {
          "output_type": "stream",
          "name": "stdout",
          "text": [
            "Número de minibatches de trenamento: 600\n",
            "\n",
            "Dimensões dos dados de um minibatch: torch.Size([100, 1, 28, 28])\n",
            "Valores mínimo e máximo dos pixels:  tensor(0.) tensor(1.)\n",
            "Tipo dos dados das imagens:          <class 'torch.Tensor'>\n",
            "Tipo das classes das imagens:        <class 'torch.Tensor'>\n"
          ]
        },
        {
          "output_type": "stream",
          "name": "stderr",
          "text": [
            "\n"
          ]
        }
      ],
      "source": [
        "dataset_dir = 'MNIST/'\n",
        "\n",
        "dataset_train = MNIST(dataset_dir, train=True, download=True,\n",
        "                      transform=torchvision.transforms.ToTensor())\n",
        "\n",
        "loader_train = DataLoader(dataset_train, batch_size=batch_size, shuffle=True)\n",
        "\n",
        "print('Número de minibatches de trenamento:', len(loader_train))\n",
        "\n",
        "x_train, y_train = next(iter(loader_train))\n",
        "print(\"\\nDimensões dos dados de um minibatch:\", x_train.size())\n",
        "print(\"Valores mínimo e máximo dos pixels: \", torch.min(x_train), torch.max(x_train))\n",
        "print(\"Tipo dos dados das imagens:         \", type(x_train))\n",
        "print(\"Tipo das classes das imagens:       \", type(y_train))"
      ]
    },
    {
      "cell_type": "markdown",
      "metadata": {
        "id": "Jalws0jHl-fB"
      },
      "source": [
        "### Usando todas as amostras do MNIST\n",
        "\n",
        "Neste exemplo utilizaremos todas as amostras de treinamento."
      ]
    },
    {
      "cell_type": "code",
      "execution_count": null,
      "metadata": {
        "ExecuteTime": {
          "end_time": "2017-11-24T22:39:50.414117Z",
          "start_time": "2017-11-24T22:39:50.402687Z"
        },
        "colab": {
          "base_uri": "https://localhost:8080/"
        },
        "id": "TnFMMGDKl-fC",
        "outputId": "92c51261-99f3-45ee-c704-5f55978a735f"
      },
      "outputs": [
        {
          "output_type": "stream",
          "name": "stdout",
          "text": [
            "Número de minibatches de treinamento: 600\n"
          ]
        },
        {
          "output_type": "stream",
          "name": "stderr",
          "text": [
            "/usr/local/lib/python3.11/dist-packages/torchvision/datasets/mnist.py:76: UserWarning: train_data has been renamed data\n",
            "  warnings.warn(\"train_data has been renamed data\")\n"
          ]
        }
      ],
      "source": [
        "print('Número de minibatches de treinamento:', len(loader_train))\n",
        "n_batches_train = len(loader_train)\n",
        "total_samples = dataset_train.train_data.size(0)"
      ]
    },
    {
      "cell_type": "markdown",
      "metadata": {
        "id": "dz6ke_hfl-fF"
      },
      "source": [
        "## Modelo"
      ]
    },
    {
      "cell_type": "code",
      "execution_count": null,
      "metadata": {
        "ExecuteTime": {
          "end_time": "2017-11-24T22:39:50.422994Z",
          "start_time": "2017-11-24T22:39:50.416568Z"
        },
        "id": "8iCWX43fl-fG"
      },
      "outputs": [],
      "source": [
        "model = torch.nn.Linear(28*28, 10)"
      ]
    },
    {
      "cell_type": "code",
      "execution_count": null,
      "metadata": {
        "colab": {
          "base_uri": "https://localhost:8080/"
        },
        "id": "GrIFjo18dZ_L",
        "outputId": "e4b76395-c926-488a-bf34-48f1c5b25d8e"
      },
      "outputs": [
        {
          "output_type": "stream",
          "name": "stdout",
          "text": [
            "torch.Size([1, 784])\n"
          ]
        },
        {
          "output_type": "execute_result",
          "data": {
            "text/plain": [
              "tensor([[-0.8353, -0.2156,  0.1628, -0.0915,  0.1062, -0.0378,  0.6716, -0.0464,\n",
              "          0.1135, -0.8241]], grad_fn=<AddmmBackward0>)"
            ]
          },
          "metadata": {},
          "execution_count": 6
        }
      ],
      "source": [
        "x = torch.ones(28*28).reshape(1, 784)\n",
        "print(x.shape)\n",
        "predict = model(x)\n",
        "predict"
      ]
    },
    {
      "cell_type": "markdown",
      "metadata": {
        "id": "kVDFEZBql-fJ"
      },
      "source": [
        "## Treinamento"
      ]
    },
    {
      "cell_type": "markdown",
      "metadata": {
        "id": "OUAeuSK6l-fJ"
      },
      "source": [
        "### Inicialização dos parâmetros"
      ]
    },
    {
      "cell_type": "code",
      "execution_count": null,
      "metadata": {
        "ExecuteTime": {
          "end_time": "2017-11-24T22:39:50.433321Z",
          "start_time": "2017-11-24T22:39:50.426167Z"
        },
        "id": "XT5_fSiQl-fK"
      },
      "outputs": [],
      "source": [
        "n_epochs = 5\n",
        "learningRate = 0.5\n",
        "\n",
        "# Utilizaremos CrossEntropyLoss como função de perda\n",
        "criterion = torch.nn.CrossEntropyLoss()\n",
        "\n",
        "# Gradiente descendente\n",
        "optimizer = torch.optim.SGD(model.parameters(), lr=learningRate)"
      ]
    },
    {
      "cell_type": "markdown",
      "metadata": {
        "id": "-OM9OWI6l-fN"
      },
      "source": [
        "### Laço de treinamento dos parâmetros"
      ]
    },
    {
      "cell_type": "code",
      "execution_count": null,
      "metadata": {
        "ExecuteTime": {
          "end_time": "2017-11-24T22:39:50.984972Z",
          "start_time": "2017-11-24T22:39:50.435673Z"
        },
        "id": "JvNVUUFTl-fQ"
      },
      "outputs": [],
      "source": [
        "epochs = []\n",
        "losses = []\n",
        "\n",
        "total_trained_samples = 0\n",
        "for i in range(n_epochs):\n",
        "    for k,(x_train, y_train) in enumerate(loader_train):\n",
        "        # Transforma a entrada para uma dimensão\n",
        "        inputs = Variable(x_train.view(-1, 28 * 28))\n",
        "        # predict da rede\n",
        "        outputs = model(inputs)\n",
        "\n",
        "        # calcula a perda\n",
        "        loss = criterion(outputs, Variable(y_train))\n",
        "\n",
        "        # zero, backpropagation, ajusta parâmetros pelo gradiente descendente\n",
        "        optimizer.zero_grad()\n",
        "        loss.backward()\n",
        "        optimizer.step()\n",
        "\n",
        "        total_trained_samples += x_train.size(0)\n",
        "        epochs.append(total_trained_samples / total_samples)\n",
        "        losses.append(loss.data)"
      ]
    },
    {
      "cell_type": "code",
      "execution_count": null,
      "metadata": {
        "ExecuteTime": {
          "end_time": "2017-11-24T22:39:50.992302Z",
          "start_time": "2017-11-24T22:39:50.987284Z"
        },
        "colab": {
          "base_uri": "https://localhost:8080/"
        },
        "id": "aYO4bgVwl-fT",
        "outputId": "8d676bf1-d16d-498c-e732-6121a38423d6"
      },
      "outputs": [
        {
          "output_type": "stream",
          "name": "stdout",
          "text": [
            "Final loss: tensor(0.2469)\n"
          ]
        }
      ],
      "source": [
        "print('Final loss:', loss.data)"
      ]
    },
    {
      "cell_type": "markdown",
      "metadata": {
        "id": "XEhPdkjAl-fX"
      },
      "source": [
        "### Visualizando gráfico de perda durante o treinamento"
      ]
    },
    {
      "cell_type": "code",
      "execution_count": null,
      "metadata": {
        "ExecuteTime": {
          "end_time": "2017-11-24T22:39:51.244869Z",
          "start_time": "2017-11-24T22:39:50.995188Z"
        },
        "colab": {
          "base_uri": "https://localhost:8080/",
          "height": 467
        },
        "id": "_fSYP_KXl-fY",
        "outputId": "5e4edba7-0a5a-43b1-e9bb-07038f743070"
      },
      "outputs": [
        {
          "output_type": "execute_result",
          "data": {
            "text/plain": [
              "Text(0.5, 0, 'época')"
            ]
          },
          "metadata": {},
          "execution_count": 9
        },
        {
          "output_type": "display_data",
          "data": {
            "text/plain": [
              "<Figure size 640x480 with 1 Axes>"
            ],
            "image/png": "[encoded data removed]"
          },
          "metadata": {}
        }
      ],
      "source": [
        "plt.plot(epochs, losses)\n",
        "plt.xlabel('época')"
      ]
    },
    {
      "cell_type": "markdown",
      "metadata": {
        "id": "eNyGHxAtl-fc"
      },
      "source": [
        "### Visualização usual da perda, somente no final de cada minibatch"
      ]
    },
    {
      "cell_type": "code",
      "execution_count": null,
      "metadata": {
        "ExecuteTime": {
          "end_time": "2017-11-24T22:39:51.498640Z",
          "start_time": "2017-11-24T22:39:51.246714Z"
        },
        "colab": {
          "base_uri": "https://localhost:8080/",
          "height": 467
        },
        "id": "e2J2aZZVl-fd",
        "outputId": "432ae629-914b-4c2b-88b3-4a8440903ff6"
      },
      "outputs": [
        {
          "output_type": "execute_result",
          "data": {
            "text/plain": [
              "Text(0.5, 0, 'época')"
            ]
          },
          "metadata": {},
          "execution_count": 10
        },
        {
          "output_type": "display_data",
          "data": {
            "text/plain": [
              "<Figure size 640x480 with 1 Axes>"
            ],
            "image/png": "[encoded data removed]"
          },
          "metadata": {}
        }
      ],
      "source": [
        "plt.plot(epochs[:5 * n_batches_train +1:n_batches_train], losses[:5 * n_batches_train+1:n_batches_train])\n",
        "plt.xlabel('época')"
      ]
    },
    {
      "cell_type": "markdown",
      "metadata": {
        "id": "eHLCXNLml-fg"
      },
      "source": [
        "# Atividades"
      ]
    },
    {
      "cell_type": "markdown",
      "metadata": {
        "id": "ZCs38MOml-fh"
      },
      "source": [
        "## Perguntas"
      ]
    },
    {
      "cell_type": "markdown",
      "metadata": {
        "id": "Ffg58gb7l-fi"
      },
      "source": [
        "1. Qual é o tamanho do mini-batch?\n",
        "**R.**100\n",
        "------------------------------------\n",
        "2. Em uma época, quantos mini-batches existem?\n",
        "**R.**600\n",
        "------------------------------------\n",
        "3. Qual é a definição de época?\n",
        "**R.**É um laço de treinamento onde são executados, por todos os minibatch existentes, 4 passos: predict, cálculo da perda, backpropagation e atualização dos pesos.\n",
        "------------------------------------"
      ]
    },
    {
      "cell_type": "markdown",
      "metadata": {
        "id": "DourBpfrl-fl"
      },
      "source": [
        "## Exercícios\n"
      ]
    },
    {
      "cell_type": "markdown",
      "metadata": {
        "id": "Vjh3AaNpl-fn"
      },
      "source": [
        "1. Coloque um print no final de cada minibatch, no mesmo estilo do print do final de época, no seguinte estilo:\n",
        "    - Época: 1/4, batch: 600\n"
      ]
    },
    {
      "cell_type": "code",
      "source": [
        "epochs = []\n",
        "losses = []\n",
        "\n",
        "total_trained_samples = 0\n",
        "total_minibatches = 0  # contador de minibatches\n",
        "\n",
        "for i in range(n_epochs):\n",
        "    for k,(x_train, y_train) in enumerate(loader_train):\n",
        "        # Transforma a entrada para uma dimensão\n",
        "        inputs = Variable(x_train.view(-1, 28 * 28))\n",
        "        # predict da rede\n",
        "        outputs = model(inputs)\n",
        "\n",
        "        # calcula a perda\n",
        "        loss = criterion(outputs, Variable(y_train))\n",
        "\n",
        "        # zero, backpropagation, ajusta parâmetros pelo gradiente descendente\n",
        "        optimizer.zero_grad()\n",
        "        loss.backward()\n",
        "        optimizer.step()\n",
        "\n",
        "        total_trained_samples += x_train.size(0)\n",
        "        epochs.append(total_trained_samples / total_samples)\n",
        "        losses.append(loss.data)\n",
        "\n",
        "        total_minibatches += 1  # incrementa a cada batch\n",
        "\n",
        "    print(f'Época {i+1}/{n_epochs}, batch: {total_minibatches}')"
      ],
      "metadata": {
        "colab": {
          "base_uri": "https://localhost:8080/"
        },
        "id": "yr0vL9q7chzg",
        "outputId": "aa0ae045-9bde-4a9d-a921-b64db3f48959"
      },
      "execution_count": null,
      "outputs": [
        {
          "output_type": "stream",
          "name": "stdout",
          "text": [
            "Época 1/5, batch: 600\n",
            "Época 2/5, batch: 1200\n",
            "Época 3/5, batch: 1800\n",
            "Época 4/5, batch: 2400\n",
            "Época 5/5, batch: 3000\n"
          ]
        }
      ]
    },
    {
      "cell_type": "markdown",
      "source": [
        "2. Altere o tamanho de minibatch (batch_size) algumas vezes, refaça o treinamento, e compare no gráfico abaixo a queda da perda para cada tamanho de minibatch."
      ],
      "metadata": {
        "id": "rlFQkbkQcktG"
      }
    },
    {
      "cell_type": "markdown",
      "source": [
        "#### **Batch_size de 900**"
      ],
      "metadata": {
        "id": "YTmLsukjhJm6"
      }
    },
    {
      "cell_type": "code",
      "source": [
        "# Quantidade de batchs\n",
        "batch_size = 900\n",
        "\n",
        "# Instanciar o modelo\n",
        "model = torch.nn.Linear(28*28, 10)\n",
        "\n",
        "# Número de épocas e tamanho do passo\n",
        "n_epochs = 5\n",
        "learningRate = 0.5\n",
        "\n",
        "# Utilizaremos CrossEntropyLoss como função de perda\n",
        "criterion = torch.nn.CrossEntropyLoss()\n",
        "\n",
        "# Gradiente descendente\n",
        "optimizer = torch.optim.SGD(model.parameters(), lr=learningRate)\n",
        "\n",
        "epochs = []\n",
        "losses = []\n",
        "\n",
        "total_trained_samples = 0\n",
        "total_minibatches = 0  # contador de minibatches\n",
        "\n",
        "for i in range(n_epochs):\n",
        "    for k,(x_train, y_train) in enumerate(loader_train):\n",
        "        # Transforma a entrada para uma dimensão\n",
        "        inputs = Variable(x_train.view(-1, 28 * 28))\n",
        "        # predict da rede\n",
        "        outputs = model(inputs)\n",
        "\n",
        "        # calcula a perda\n",
        "        loss = criterion(outputs, Variable(y_train))\n",
        "\n",
        "        # zero, backpropagation, ajusta parâmetros pelo gradiente descendente\n",
        "        optimizer.zero_grad()\n",
        "        loss.backward()\n",
        "        optimizer.step()\n",
        "\n",
        "        total_trained_samples += x_train.size(0)\n",
        "        epochs.append(total_trained_samples / total_samples)\n",
        "        losses.append(loss.data)\n",
        "\n",
        "        total_minibatches += 1  # incrementa a cada batch\n",
        "\n",
        "    print(f'Época {i+1}/{n_epochs}, batch: {total_minibatches}')\n",
        "\n",
        "print('Final loss:', loss.data)"
      ],
      "metadata": {
        "colab": {
          "base_uri": "https://localhost:8080/"
        },
        "id": "vXhmtb9mciVm",
        "outputId": "afa7c130-c601-4bf6-c6b5-1c301cae94d9"
      },
      "execution_count": null,
      "outputs": [
        {
          "output_type": "stream",
          "name": "stdout",
          "text": [
            "Época 1/5, batch: 600\n",
            "Época 2/5, batch: 1200\n",
            "Época 3/5, batch: 1800\n",
            "Época 4/5, batch: 2400\n",
            "Época 5/5, batch: 3000\n",
            "Final loss: tensor(0.2719)\n"
          ]
        }
      ]
    },
    {
      "cell_type": "code",
      "source": [
        "plt.plot(epochs, losses)\n",
        "plt.xlabel('época')"
      ],
      "metadata": {
        "colab": {
          "base_uri": "https://localhost:8080/",
          "height": 467
        },
        "id": "7jvUjaD8fVtS",
        "outputId": "6fa461f3-e669-446a-8044-8a6e89a77bc3"
      },
      "execution_count": null,
      "outputs": [
        {
          "output_type": "execute_result",
          "data": {
            "text/plain": [
              "Text(0.5, 0, 'época')"
            ]
          },
          "metadata": {},
          "execution_count": 17
        },
        {
          "output_type": "display_data",
          "data": {
            "text/plain": [
              "<Figure size 640x480 with 1 Axes>"
            ],
            "image/png": "[encoded data removed]"
          },
          "metadata": {}
        }
      ]
    },
    {
      "cell_type": "code",
      "source": [
        "plt.plot(epochs[:5 * n_batches_train +1:n_batches_train], losses[:5 * n_batches_train+1:n_batches_train])\n",
        "plt.xlabel('época')"
      ],
      "metadata": {
        "colab": {
          "base_uri": "https://localhost:8080/",
          "height": 467
        },
        "id": "EddGmfJZfVwy",
        "outputId": "500c316c-1804-40da-d4e8-b16600aa101d"
      },
      "execution_count": null,
      "outputs": [
        {
          "output_type": "execute_result",
          "data": {
            "text/plain": [
              "Text(0.5, 0, 'época')"
            ]
          },
          "metadata": {},
          "execution_count": 18
        },
        {
          "output_type": "display_data",
          "data": {
            "text/plain": [
              "<Figure size 640x480 with 1 Axes>"
            ],
            "image/png": "[encoded data removed]"
          },
          "metadata": {}
        }
      ]
    },
    {
      "cell_type": "markdown",
      "source": [
        "#### **Batch_size de 1000**"
      ],
      "metadata": {
        "id": "8a4otIOchSMo"
      }
    },
    {
      "cell_type": "code",
      "source": [
        "# Quantidade de batchs\n",
        "batch_size = 1000\n",
        "\n",
        "# Instanciar o modelo\n",
        "model = torch.nn.Linear(28*28, 10)\n",
        "\n",
        "# Número de épocas e tamanho do passo\n",
        "n_epochs = 5\n",
        "learningRate = 0.5\n",
        "\n",
        "# Utilizaremos CrossEntropyLoss como função de perda\n",
        "criterion = torch.nn.CrossEntropyLoss()\n",
        "\n",
        "# Gradiente descendente\n",
        "optimizer = torch.optim.SGD(model.parameters(), lr=learningRate)\n",
        "\n",
        "epochs = []\n",
        "losses = []\n",
        "\n",
        "total_trained_samples = 0\n",
        "total_minibatches = 0  # contador de minibatches\n",
        "\n",
        "for i in range(n_epochs):\n",
        "    for k,(x_train, y_train) in enumerate(loader_train):\n",
        "        # Transforma a entrada para uma dimensão\n",
        "        inputs = Variable(x_train.view(-1, 28 * 28))\n",
        "        # predict da rede\n",
        "        outputs = model(inputs)\n",
        "\n",
        "        # calcula a perda\n",
        "        loss = criterion(outputs, Variable(y_train))\n",
        "\n",
        "        # zero, backpropagation, ajusta parâmetros pelo gradiente descendente\n",
        "        optimizer.zero_grad()\n",
        "        loss.backward()\n",
        "        optimizer.step()\n",
        "\n",
        "        total_trained_samples += x_train.size(0)\n",
        "        epochs.append(total_trained_samples / total_samples)\n",
        "        losses.append(loss.data)\n",
        "\n",
        "        total_minibatches += 1  # incrementa a cada batch\n",
        "\n",
        "    print(f'Época {i+1}/{n_epochs}, batch: {total_minibatches}')\n",
        "\n",
        "print('Final loss:', loss.data)"
      ],
      "metadata": {
        "colab": {
          "base_uri": "https://localhost:8080/"
        },
        "id": "8patyv7Sf1zk",
        "outputId": "bc433a39-0d93-4b31-d866-84c6511b0ffb"
      },
      "execution_count": 22,
      "outputs": [
        {
          "output_type": "stream",
          "name": "stdout",
          "text": [
            "Época 1/5, batch: 600\n",
            "Época 2/5, batch: 1200\n",
            "Época 3/5, batch: 1800\n",
            "Época 4/5, batch: 2400\n",
            "Época 5/5, batch: 3000\n",
            "Final loss: tensor(0.2071)\n"
          ]
        }
      ]
    },
    {
      "cell_type": "code",
      "source": [
        "plt.plot(epochs, losses)\n",
        "plt.xlabel('época')"
      ],
      "metadata": {
        "colab": {
          "base_uri": "https://localhost:8080/",
          "height": 467
        },
        "id": "pSab_7Mtf19d",
        "outputId": "27e0d8d4-ecb4-4091-8603-c5da4fd8bfd4"
      },
      "execution_count": 23,
      "outputs": [
        {
          "output_type": "execute_result",
          "data": {
            "text/plain": [
              "Text(0.5, 0, 'época')"
            ]
          },
          "metadata": {},
          "execution_count": 23
        },
        {
          "output_type": "display_data",
          "data": {
            "text/plain": [
              "<Figure size 640x480 with 1 Axes>"
            ],
            "image/png": "[encoded data removed]"
          },
          "metadata": {}
        }
      ]
    },
    {
      "cell_type": "code",
      "source": [
        "plt.plot(epochs[:5 * n_batches_train +1:n_batches_train], losses[:5 * n_batches_train+1:n_batches_train])\n",
        "plt.xlabel('época')"
      ],
      "metadata": {
        "colab": {
          "base_uri": "https://localhost:8080/",
          "height": 467
        },
        "id": "mvTliG_of2A7",
        "outputId": "69353e8b-37a5-4b9a-b6e0-d83641231c5d"
      },
      "execution_count": 24,
      "outputs": [
        {
          "output_type": "execute_result",
          "data": {
            "text/plain": [
              "Text(0.5, 0, 'época')"
            ]
          },
          "metadata": {},
          "execution_count": 24
        },
        {
          "output_type": "display_data",
          "data": {
            "text/plain": [
              "<Figure size 640x480 with 1 Axes>"
            ],
            "image/png": "[encoded data removed]"
          },
          "metadata": {}
        }
      ]
    },
    {
      "cell_type": "markdown",
      "metadata": {
        "id": "Dite8MBJl-fn"
      },
      "source": [
        "## Conclusões sobre os experimentos deste notebook\n"
      ]
    },
    {
      "cell_type": "markdown",
      "source": [
        "Ao alterar o batch_size para 900, obitvemos uma perda final maior (0.2719) do que registrado com o batch_size de 100 (0.2469). Já com o batch_size de 1000, o laço de treinamento teve a menor perda final dos 3 testes: (0.2071), porém registrou um tempo de execução maior. Enquanto os outros dois laços giravam em torno de 38 segundos, esse último beirou os 42 segundos."
      ],
      "metadata": {
        "id": "HfYAfHckhzAB"
      }
    }
  ],
  "metadata": {
    "colab": {
      "provenance": []
    },
    "kernelspec": {
      "display_name": "Python 3",
      "name": "python3"
    },
    "language_info": {
      "name": "python",
      "version": "3.10.2"
    },
    "vscode": {
      "interpreter": {
        "hash": "5fe3e6f0cdaab8afdc61c52912fda83f7c0a71baaea1897dd7498e2df01e69ec"
      }
    }
  },
  "nbformat": 4,
  "nbformat_minor": 0
}